{
 "cells": [
  {
   "cell_type": "markdown",
   "id": "00c1969b",
   "metadata": {},
   "source": [
    "## Odonate Country Checklist Mobilization"
   ]
  },
  {
   "cell_type": "markdown",
   "id": "fbd83f24",
   "metadata": {},
   "source": [
    "**Prepping odonate country checklists for integration with MOL**\n",
    "\n",
    "This script documents the MOL Country Checklist Mobilization workflow for the Odonate country checklists described by Sandall et al. (in Review). Is uses the general workflow detailed in the [MOL_country_checklists Git Hub repository](https://github.com/matthewsrogan/MOL_country_checklists). A description of this workflow is also available from [the MOL Gdrive](https://drive.google.com/file/d/1GnHRbQxzZTziDgkwS3uA6BEWmEoZ2edN/view?usp=sharing)."
   ]
  },
  {
   "cell_type": "markdown",
   "id": "d028f6b8",
   "metadata": {},
   "source": [
    "The workflow consists of 7 steps: 1) Prep the R environment, 2) Read data, 3) Harmonize taxonomy, 4) Join spatial info, 5) Compute richness, 6) Run checks, and 7) Export checklist."
   ]
  },
  {
   "cell_type": "markdown",
   "id": "12e2108d",
   "metadata": {},
   "source": [
    "**DATA DESCRIPTION**\n",
    "\\newline\n",
    "The data for this checklist were provided by Emily Sandall (emily.sandall@yale.edu) and were prepared via a systematic literature review by her and others."
   ]
  },
  {
   "cell_type": "markdown",
   "id": "87d6e320",
   "metadata": {},
   "source": [
    "## STEP 1: PREPARE R ENVIRONMENT"
   ]
  },
  {
   "cell_type": "markdown",
   "id": "1cbaa309",
   "metadata": {},
   "source": [
    "First we need to specify a few environmental variables. Begin by specifying the taxonomic group that the checklist represents."
   ]
  },
  {
   "cell_type": "code",
   "execution_count": null,
   "id": "c0427949",
   "metadata": {},
   "outputs": [],
   "source": [
    "taxa = \"dragonflies\""
   ]
  },
  {
   "cell_type": "markdown",
   "id": "b5292264",
   "metadata": {},
   "source": [
    "Next we’re going to specify source folders for data and the relevant code. Within the code directory should be the latest version of the MOL_country_checklists repository. We will also specify a root folder for all country checklist data (the migration directory)."
   ]
  },
  {
   "cell_type": "code",
   "execution_count": null,
   "id": "f53eecca",
   "metadata": {},
   "outputs": [],
   "source": [
    "#Various scripts\n",
    "codeDir = \"C:/Users/mr2577/Dropbox/BGC/MoL/Code/Country_checklists\"\n",
    "\n",
    "#Github MOL_country_checklists repository\n",
    "pckgDir = paste0(codeDir, \"/MOL_country_checklists\")\n",
    "\n",
    "#migration directory - parent directory for processing regional checklists\n",
    "migrationDir <- \"G:/Shared drives/MOL/Data/datasets/country_checklists\""
   ]
  },
  {
   "cell_type": "markdown",
   "id": "84ec10b3",
   "metadata": {},
   "source": [
    "We will also load the tidyverse suite of packages and source the custom functions from the repository."
   ]
  },
  {
   "cell_type": "code",
   "execution_count": null,
   "id": "5b660a0f",
   "metadata": {},
   "outputs": [],
   "source": [
    "library(readr)\n",
    "library(dplyr)\n",
    "\n",
    "#source functions from script in repository\n",
    "source(paste0(pckgDir, \"/scripts/ccl_source_funs.R\"));"
   ]
  },
  {
   "cell_type": "code",
   "execution_count": null,
   "id": "32328b84",
   "metadata": {},
   "outputs": [],
   "source": [
    "## STEP 2: READ DATA INTO R"
   ]
  },
  {
   "cell_type": "markdown",
   "id": "88337a2e",
   "metadata": {},
   "source": [
    "Now we'll specify the file names of the data - the raw checklist and the master taxonomy. The latter is stored as a googlesheet"
   ]
  },
  {
   "cell_type": "code",
   "execution_count": 2,
   "id": "3e6b77ef",
   "metadata": {},
   "outputs": [
    {
     "name": "stderr",
     "output_type": "stream",
     "text": [
      "\u001b[33m!\u001b[39m Using an auto-discovered, cached token.\n",
      "  To suppress this message, modify your code or options to clearly consent to the use of a cached token.\n",
      "  See gargle's \"Non-interactive auth\" vignette for more details:\n",
      "  \u001b[3m\u001b[34m\u001b[3m\u001b[34m<https://gargle.r-lib.org/articles/non-interactive-auth.html>\u001b[34m\u001b[3m\u001b[39m\u001b[23m\n",
      "\u001b[36mi\u001b[39m The \u001b[34m\u001b[34mgooglesheets4\u001b[34m\u001b[39m package is using a cached token for \u001b[34m\u001b[34mmr2577@yale.edu\u001b[34m\u001b[39m.\n"
     ]
    },
    {
     "ename": "ERROR",
     "evalue": "Error: 'cli_abort' is not an exported object from 'namespace:cli'\n",
     "output_type": "error",
     "traceback": [
      "Error: 'cli_abort' is not an exported object from 'namespace:cli'\nTraceback:\n",
      "1. googlesheets4::read_sheet(\"G:/Shared drives/JetzLab/Specialty Groups/Groups/Taxon Expert Group/synonyms lists/master_taxo_with_syns/2021/MOL_OdonataTaxonomy_v3.0.gsheet\")",
      "2. get_cells(ss = ss, sheet = sheet, range = range, col_names_in_sheet = isTRUE(col_spec$col_names), \n .     skip = skip, n_max = n_max)",
      "3. gs4_get(ssid)",
      "4. gs4_get_impl_(as_sheets_id(ss))",
      "5. gargle::response_process(raw_resp)",
      "6. gargle_abort_request_failed(error_message(resp), resp)",
      "7. gargle_abort(message, class = c(\"gargle_error_request_failed\", \n .     glue(\"http_error_{httr::status_code(resp)}\")), resp = redact_response(resp))",
      "8. cli::cli_abort",
      "9. getExportedValue(pkg, name)",
      "10. stop(gettextf(\"'%s' is not an exported object from 'namespace:%s'\", \n  .     name, getNamespaceName(ns)), call. = FALSE, domain = NA)"
     ]
    }
   ],
   "source": [
    "# Checklist data files\n",
    "ccl_name <- \"MOLOdonateChecklistData_0821.csv\"\n",
    "\n",
    "#dragonfly synonym list\n",
    "synList <- googlesheets4::read_sheet(\"G:/Shared drives/JetzLab/Specialty Groups/Groups/Taxon Expert Group/synonyms lists/master_taxo_with_syns/2021/MOL_OdonataTaxonomy_v3.0.gsheet\")"
   ]
  },
  {
   "cell_type": "code",
   "execution_count": null,
   "id": "5479a2cc",
   "metadata": {},
   "outputs": [],
   "source": [
    "library(googlesheets4)\n",
    "library(cli)"
   ]
  },
  {
   "cell_type": "code",
   "execution_count": null,
   "id": "126f6d30",
   "metadata": {},
   "outputs": [],
   "source": []
  }
 ],
 "metadata": {
  "kernelspec": {
   "display_name": "R",
   "language": "R",
   "name": "ir"
  },
  "language_info": {
   "codemirror_mode": "r",
   "file_extension": ".r",
   "mimetype": "text/x-r-source",
   "name": "R",
   "pygments_lexer": "r",
   "version": "3.6.1"
  }
 },
 "nbformat": 4,
 "nbformat_minor": 5
}
